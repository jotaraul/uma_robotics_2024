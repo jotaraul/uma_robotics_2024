{
 "cells": [
  {
   "cell_type": "markdown",
   "metadata": {},
   "source": [
    "<center><img src=\"./images/jupyter_logo.png\" width=\"500\"></center>\n",
    "\n",
    "\n",
    "# 1. Introduction to Jupyter Notebook and Python\n",
    "\n",
    "This interactive robotics book has been written by means of the **Jupyter Notebook** framework, which allows us to design documents (also called **notebooks**, or **jupyter notebooks**) that combine the typical elements in a book (text, equations, figures, etc.) and multimedia resources like videos or audios with code cells that can be edited and executed. That is, such notebooks mix explanations and interactive code, all in the same way. \n",
    "\n",
    "## Jupyter notebooks\n",
    "\n",
    "Jupyter notebooks are divided in **cells** that can be executed by pressing <kbd>Ctrl</kbd> + <kbd>Enter</kbd>. There are two main types of cells:\n",
    "- **Markdown cells** (like this one) used for writing text and adding media elements (more info about markdown here [introduction](https://www.markdownguide.org/getting-started) or here [cheatsheet](https://github.com/adam-p/markdown-here/wiki/Markdown-Cheatsheet)), and \n",
    "- **Code/Python cells** (like the one below) which content is considered as executable code that can produce a result displayed below the cell."
   ]
  },
  {
   "cell_type": "code",
   "execution_count": 1,
   "metadata": {},
   "outputs": [
    {
     "name": "stdout",
     "output_type": "stream",
     "text": [
      "Number of permutations: 20\n"
     ]
    }
   ],
   "source": [
    "# This is a Code cell written in Python!\n",
    "from scipy.special import perm # From the library scipy and its module scipy.special we are importing the function perm\n",
    "#find permutation of 5, 2 using perm (N, k) function\n",
    "per = perm(5, 2, exact = True) # The result is saved into per\n",
    "print(\"Number of permutations: \" + str(per)) # And finally we print the content of said variable"
   ]
  },
  {
   "cell_type": "markdown",
   "metadata": {},
   "source": [
    " \n",
    "In this way, the notebooks provided in this book have a number of markdown cells including theory, pictures, ecuations, etc., as well as code cells with parts to be completed by the students. Usually the `None` keyword is used to mark the places where the student has to introduce some code. "
   ]
  },
  {
   "cell_type": "markdown",
   "metadata": {
    "tags": []
   },
   "source": [
    "### Practical notes\n",
    "\n",
    "* If you feel stuck and you need to **debug** the code, there are two options that you can try:\n",
    "\n",
    "  1. Using **JupyterLab**, enable the debugger (bug icon at the top-right part of the interface). Then you can place breakpoints, check the type and content of variables, etc.\n",
    "  2. Use a different **debugging** tool, there is a way to convert a notebook into a normal python script.\n",
    "      - Whithin the editor in File > Save as... > Python \n",
    "      - On the command line use the following: `jupyter nbconvert --to script YYY.ipynb` to convert whatever notebook you like.\n",
    "    Then you can debug it normally using an editor/IDE like **Visual Studio Code**, **Spyder** or **PyCharm**.\n",
    "  \n",
    "* In the case, some visualization is bugged or doesn't display properly, there is a chance that `Restart Kernel and Run all Cells` could fix it."
   ]
  },
  {
   "cell_type": "markdown",
   "metadata": {},
   "source": [
    "## Python resources\n",
    "\n",
    "There are three Python libraries that will be intensively used throughout this book:\n",
    "\n",
    "<img src=\"./images/numpy_logo.png\" width=\"300\" align=\"left\"/>\n",
    "<img src=\"./images/scipy_logo.png\" width=\"300\"/>\n",
    "<img src=\"./images/matplotlib_logo.png\" width=\"300\"/>\n",
    "\n",
    "- **NumPy** adds support for multi-dimensional arrays and matrices, along with a large collection of high-level mathematical functions to operate on these arrays. It is written in C.\n",
    "- **Scipy** builds upon NumPy and adds extra functionalities (statistics, linear algebra, etc.).\n",
    "- **matplotlib** is a library providing multiple data visualization options.\n",
    "\n",
    "Next sections briefly introduce these libraries.\n"
   ]
  },
  {
   "cell_type": "markdown",
   "metadata": {},
   "source": [
    "## Numpy and Scipy\n",
    "\n",
    "For the creation of arrays and matrices, we'll use Numpy [(docs here)](https://docs.scipy.org/doc/numpy/reference/) and some functions from Scipy [(docs here)](https://docs.scipy.org/doc/scipy/reference/)."
   ]
  },
  {
   "cell_type": "code",
   "execution_count": 2,
   "metadata": {},
   "outputs": [],
   "source": [
    "import numpy as np # Import library"
   ]
  },
  {
   "cell_type": "markdown",
   "metadata": {},
   "source": [
    "- **Array creation**: In the code, we'll always use numpy arrays(`np.ndarray` class) created by:\n",
    "\n",
    "`np.array([...])`: For normal array creation    "
   ]
  },
  {
   "cell_type": "code",
   "execution_count": 3,
   "metadata": {},
   "outputs": [
    {
     "name": "stdout",
     "output_type": "stream",
     "text": [
      "Identity matrix: \n",
      " [[1 0 0]\n",
      " [0 1 0]\n",
      " [0 0 1]]\n"
     ]
    }
   ],
   "source": [
    "identity = np.array([[1,0,0],[0,1,0],[0,0,1]])\n",
    "print(\"Identity matrix: \\n\", identity)"
   ]
  },
  {
   "cell_type": "markdown",
   "metadata": {},
   "source": [
    "`np.vstack([...])` and `np.hstack([...])`: For vertical and horizontal concatenation respectively.    "
   ]
  },
  {
   "cell_type": "code",
   "execution_count": null,
   "metadata": {},
   "outputs": [],
   "source": [
    "print (\"Vertical array: \\n\", np.vstack([3,4,5]))\n",
    "print (\"Horizontal array: \\n\", np.hstack([3,4,5]))"
   ]
  },
  {
   "cell_type": "markdown",
   "metadata": {},
   "source": [
    "`np.diag([...])`: To create a diagonal matrix.    "
   ]
  },
  {
   "cell_type": "code",
   "execution_count": null,
   "metadata": {
    "scrolled": true
   },
   "outputs": [],
   "source": [
    "print (\"Diagonal matrix: \\n\", np.diag([3,4,5]))"
   ]
  },
  {
   "cell_type": "markdown",
   "metadata": {},
   "source": [
    "- **Matrix operations**: There exist another class called `np.matrix` that eases some operations: inverse, transpose,... However, we will not use it in our code as it is marked for future deprecation. Instead you may use the following functions:\n",
    "    - `scipy.linalg.inv()`: For the **inverse** of a matrix.\n",
    "    - If we have a ndarray called `A` we can use `A.T` for the **transpose**. In the case A is a flat ndarray and we want a vertical vector `np.vstack(A)` may be used, as `A.T` will not return our expected output."
   ]
  },
  {
   "cell_type": "code",
   "execution_count": null,
   "metadata": {},
   "outputs": [],
   "source": [
    "A = np.array([[1, 2],[3,4]])\n",
    "print('A: \\n',A)\n",
    "print('A.T: \\n:',A.T)\n",
    "b = np.array([1,2,3])\n",
    "print('b: \\n',b)\n",
    "print('b.T: \\n',b.T)\n",
    "print('np.vstack(b): \\n',np.vstack(b))"
   ]
  },
  {
   "cell_type": "markdown",
   "metadata": {
    "tags": []
   },
   "source": [
    "For **matrix multiplication** the `@` operator is defined on ndarrays as such. Use: `A@B`. The `*` operator with matrices just returns an element-wise product:"
   ]
  },
  {
   "cell_type": "code",
   "execution_count": null,
   "metadata": {
    "tags": []
   },
   "outputs": [],
   "source": [
    "A = np.array([[1, 1],[2,1]])\n",
    "print('A: \\n',A)\n",
    "B = np.array([[2, 1],[1,1]])\n",
    "print('B: \\n',B)\n",
    "print ('A@B: \\n',A@B)\n",
    "print ('A*B: \\n',A*B)"
   ]
  },
  {
   "cell_type": "markdown",
   "metadata": {},
   "source": [
    "- **Random value generation**: we will use in most the module `numpy.random` . But we may also use the `scipy.stats` module in some cases. There are few differences between the two."
   ]
  },
  {
   "cell_type": "markdown",
   "metadata": {},
   "source": [
    "## Matplotlib\n",
    "\n",
    "We use Matplotlib, more explicitely the `matplotlib.pyplot` module [(docs here)](https://matplotlib.org/api/_as_gen/matplotlib.pyplot.html) for plotting the different figures along the practices. In some cases we will provide you with the code to plot, in others you'll have to do it yourself.\n",
    "\n",
    "If you see some wierd code such as `%matplotlib widget`, `%matplotlib inline` or `matplotlib.use('TkAgg')` you shouldn't care much about it. The first two are jupyter magic commands [(more info here)](https://ipython.readthedocs.io/en/stable/interactive/magics.html) to select which plotting backend to use."
   ]
  },
  {
   "cell_type": "code",
   "execution_count": 5,
   "metadata": {},
   "outputs": [],
   "source": [
    "import matplotlib.pyplot as plt"
   ]
  },
  {
   "cell_type": "markdown",
   "metadata": {},
   "source": [
    "Some of the more relevant functions are:\n",
    "\n",
    "- `plt.figure()` or `plt.subplots()` to create a new plot.\n",
    "- `plt.plot()`: Catch-all plotting function. Depending on the parameters it can be used for drawing lines or scatter plots. It returns a plot handler that can be used to erase the drawing using `h.pop(0).remove()`."
   ]
  },
  {
   "cell_type": "code",
   "execution_count": 6,
   "metadata": {},
   "outputs": [
    {
     "data": {
      "text/plain": [
       "[<matplotlib.lines.Line2D at 0x243a87b2e90>]"
      ]
     },
     "execution_count": 6,
     "metadata": {},
     "output_type": "execute_result"
    },
    {
     "data": {
      "image/png": "[encoded data removed]",
      "text/plain": [
       "<Figure size 640x480 with 1 Axes>"
      ]
     },
     "metadata": {},
     "output_type": "display_data"
    }
   ],
   "source": [
    "x = np.array([2,3,5,6])\n",
    "y = np.array([1,1,4,5])\n",
    "plt.plot(x, y, color='green', marker='o', linestyle='dashed',linewidth=2, markersize=12)"
   ]
  },
  {
   "cell_type": "markdown",
   "metadata": {},
   "source": [
    "- `plt.hist()`: Helpful for creating histograms. Try the following code playing with the `num_bins` parameter."
   ]
  },
  {
   "cell_type": "code",
   "execution_count": null,
   "metadata": {},
   "outputs": [],
   "source": [
    "x = [21,22,23,4,5,6,77,8,9,10,31,32,33,34,35,36,37,18,49,50,100]\n",
    "num_bins = 5\n",
    "n, bins, patches = plt.hist(x, num_bins, facecolor='blue', alpha=0.5)"
   ]
  }
 ],
 "metadata": {
  "kernelspec": {
   "display_name": "Python 3 (ipykernel)",
   "language": "python",
   "name": "python3"
  },
  "language_info": {
   "codemirror_mode": {
    "name": "ipython",
    "version": 3
   },
   "file_extension": ".py",
   "mimetype": "text/x-python",
   "name": "python",
   "nbconvert_exporter": "python",
   "pygments_lexer": "ipython3",
   "version": "3.10.7"
  }
 },
 "nbformat": 4,
 "nbformat_minor": 4
}
