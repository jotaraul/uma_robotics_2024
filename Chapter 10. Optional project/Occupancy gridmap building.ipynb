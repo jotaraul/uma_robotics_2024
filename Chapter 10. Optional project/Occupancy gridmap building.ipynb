{
 "cells": [
  {
   "cell_type": "markdown",
   "id": "20aebdff-37ea-40fb-a6ac-2ffdfacc1b85",
   "metadata": {},
   "source": [
    "# Occupancy grid map building\n",
    "\n",
    "This is a blank canvas... enjoy!"
   ]
  },
  {
   "cell_type": "code",
   "execution_count": 1,
   "id": "5610b599-e43e-4d7e-acbb-ff1e1e2410b3",
   "metadata": {},
   "outputs": [],
   "source": [
    "from laser.laser2D import Laser2D\n",
    "import numpy as np"
   ]
  }
 ],
 "metadata": {
  "kernelspec": {
   "display_name": "Python 3 (ipykernel)",
   "language": "python",
   "name": "python3"
  },
  "language_info": {
   "codemirror_mode": {
    "name": "ipython",
    "version": 3
   },
   "file_extension": ".py",
   "mimetype": "text/x-python",
   "name": "python",
   "nbconvert_exporter": "python",
   "pygments_lexer": "ipython3",
   "version": "3.10.7"
  }
 },
 "nbformat": 4,
 "nbformat_minor": 5
}
